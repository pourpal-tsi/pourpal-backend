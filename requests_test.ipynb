{
 "cells": [
  {
   "cell_type": "code",
   "execution_count": null,
   "metadata": {},
   "outputs": [],
   "source": [
    "import requests"
   ]
  },
  {
   "cell_type": "markdown",
   "metadata": {},
   "source": [
    "### Create item"
   ]
  },
  {
   "cell_type": "code",
   "execution_count": null,
   "metadata": {},
   "outputs": [],
   "source": [
    "item = {\n",
    "    'title': 'Alus Užavas gaišais 4,6% 0,5l',\n",
    "    'image_url': 'https://rimibaltic-res.cloudinary.com/image/upload/b_white,c_limit,dpr_1.0,f_auto,q_auto:low,w_400/d_ecommerce:backend-fallback.png/MAT_459099_PCE_LV',\n",
    "    'description': 'Lager beer with the mild taste of hops',\n",
    "    'type': 'Beer',\n",
    "    'price': '2.15',\n",
    "    'volume': '0.5',\n",
    "    'alcohol_volume': '4.6',\n",
    "    'quantity': 261,\n",
    "    'origin_country': 'Latvia',\n",
    "    'brand': 'Užavas alus'\n",
    "}"
   ]
  },
  {
   "cell_type": "code",
   "execution_count": null,
   "metadata": {},
   "outputs": [],
   "source": [
    "response = requests.post('http://192.168.74.103:8000/items', json=item)\n",
    "response.json()"
   ]
  },
  {
   "cell_type": "markdown",
   "metadata": {},
   "source": [
    "### Get all items\n"
   ]
  },
  {
   "cell_type": "code",
   "execution_count": null,
   "metadata": {},
   "outputs": [],
   "source": [
    "response = requests.get('http://192.168.74.103:8000/items')\n",
    "data = response.json()\n",
    "data"
   ]
  },
  {
   "cell_type": "markdown",
   "metadata": {},
   "source": [
    "### Get item by id\n"
   ]
  },
  {
   "cell_type": "code",
   "execution_count": null,
   "metadata": {},
   "outputs": [],
   "source": [
    "item=data['items'][0]"
   ]
  },
  {
   "cell_type": "code",
   "execution_count": null,
   "metadata": {},
   "outputs": [],
   "source": [
    "item_id = item['item_id']\n",
    "response = requests.get(f'http://192.168.74.103:8000/items/{item_id}')\n",
    "data = response.json()\n",
    "data"
   ]
  },
  {
   "cell_type": "markdown",
   "metadata": {},
   "source": [
    "### Update item\n"
   ]
  },
  {
   "cell_type": "code",
   "execution_count": null,
   "metadata": {},
   "outputs": [],
   "source": [
    "item_2 = {\n",
    "    'title': 'Alus Užavas gaišais 4,6% 0,5l',\n",
    "    'image_url': 'https://rimibaltic-res.cloudinary.com/image/upload/b_white,c_limit,dpr_1.0,f_auto,q_auto:low,w_400/d_ecommerce:backend-fallback.png/MAT_459099_PCE_LV',\n",
    "    'description': 'Lager beer with the mild taste of hops',\n",
    "    'type': 'Beer',\n",
    "    'price': '2.15',\n",
    "    'volume': '0.5',\n",
    "    'alcohol_volume': '4.6',\n",
    "    'quantity': 260,\n",
    "    'origin_country': 'Latvia',\n",
    "    'brand': 'Užavas alus'\n",
    "}"
   ]
  },
  {
   "cell_type": "code",
   "execution_count": null,
   "metadata": {},
   "outputs": [],
   "source": [
    "response = requests.put(f'http://192.168.74.103:8000/items/{item_id}', json=item_2)\n",
    "data = response.json()\n",
    "data\n"
   ]
  },
  {
   "cell_type": "markdown",
   "metadata": {},
   "source": [
    "### Delete item\n"
   ]
  },
  {
   "cell_type": "code",
   "execution_count": null,
   "metadata": {},
   "outputs": [],
   "source": [
    "response = requests.delete(f'http://192.168.74.103:8000/items/{item_id}')\n",
    "data = response.json()\n",
    "data"
   ]
  },
  {
   "cell_type": "code",
   "execution_count": null,
   "metadata": {},
   "outputs": [],
   "source": []
  }
 ],
 "metadata": {
  "kernelspec": {
   "display_name": ".venv",
   "language": "python",
   "name": "python3"
  },
  "language_info": {
   "codemirror_mode": {
    "name": "ipython",
    "version": 3
   },
   "file_extension": ".py",
   "mimetype": "text/x-python",
   "name": "python",
   "nbconvert_exporter": "python",
   "pygments_lexer": "ipython3",
   "version": "3.12.6"
  }
 },
 "nbformat": 4,
 "nbformat_minor": 2
}
