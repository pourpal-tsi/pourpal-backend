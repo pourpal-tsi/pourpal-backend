{
 "cells": [
  {
   "cell_type": "markdown",
   "metadata": {},
   "source": [
    "https://cwspirits.com/"
   ]
  },
  {
   "cell_type": "code",
   "execution_count": null,
   "metadata": {},
   "outputs": [],
   "source": [
    "from parser import parse_alcohol_section\n",
    "from models import Item, Money, Volume, Brand, BeverageType\n",
    "from service_funcs import generate_sku\n",
    "\n",
    "from constant_data.brands import brands as data_brands\n",
    "from constant_data.types import types as data_types\n",
    "from constant_data.countries import countries as data_countries\n",
    "\n",
    "import pymongo\n",
    "from config import MONGO_DB\n",
    "from bson import Decimal128\n",
    "\n",
    "from models import Brand, BeverageType, Country\n",
    "from random import choice, randint\n",
    "import re\n",
    "import json\n",
    "\n",
    "from constant_data.brands import brands as data_brands\n",
    "from constant_data.types import types as data_types\n",
    "\n",
    "\n",
    "client = pymongo.MongoClient(MONGO_DB)\n",
    "db = client['pourpal']\n",
    "\n",
    "countries_col = db['countries']\n",
    "brands_col = db['beverage_brands']\n",
    "types_col = db['beverage_types']\n",
    "items_col = db['items']\n",
    "\n",
    "countries = countries_col.find()\n"
   ]
  },
  {
   "cell_type": "code",
   "execution_count": null,
   "metadata": {},
   "outputs": [],
   "source": [
    "whiskey_countries = [\n",
    "    'Ireland',\n",
    "    'United Kingdom',\n",
    "    'United States',\n",
    "    'Canada',\n",
    "    'Australia',\n",
    "]\n",
    "\n",
    "wine_countries = [\n",
    "    'France',\n",
    "    'Italy',\n",
    "    'Spain',\n",
    "    'Portugal',\n",
    "    'Germany',\n",
    "    'United States',\n",
    "]\n",
    "\n",
    "vodka_countries = [\n",
    "    'Russia',\n",
    "    'Poland',\n",
    "    'Lithuania',\n",
    "    'Latvia',\n",
    "    'Estonia',\n",
    "    'Finland',\n",
    "    'Sweden',\n",
    "]\n",
    "\n",
    "rum_countries = [\n",
    "    'Jamaica',\n",
    "    'Barbados',\n",
    "    'Guatemala',\n",
    "    'Mexico',\n",
    "    'Dominican Republic',\n",
    "    'Haiti',\n",
    "    'Cuba',\n",
    "]\n",
    "\n",
    "gin_countries = [\n",
    "    'United Kingdom',\n",
    "    'United States',\n",
    "    'Canada',\n",
    "    'Australia',\n",
    "    'New Zealand',\n",
    "    'South Africa',\n",
    "    'India',\n",
    "]\n",
    "\n",
    "beer_countries = [\n",
    "    'United States',\n",
    "    'Canada',\n",
    "    'United Kingdom',\n",
    "    'Germany',\n",
    "    'Belgium',\n",
    "    'Netherlands',\n",
    "    'France',\n",
    "]\n",
    "\n",
    "tequila_countries = [\n",
    "    'Mexico',\n",
    "    'United States',\n",
    "    'Canada',\n",
    "    'Australia',\n",
    "    'New Zealand',\n",
    "    'South Africa',\n",
    "]\n",
    "\n",
    "brandy_countries = [\n",
    "    'France',\n",
    "    'United States',\n",
    "    'Canada',\n",
    "    'Australia',\n",
    "    'New Zealand',\n",
    "    'South Africa',\n",
    "]\n",
    "\n",
    "liqueur_countries = [\n",
    "    'France',\n",
    "    'Italy',\n",
    "    'Netherlands',\n",
    "    'Germany',\n",
    "    'Ireland',\n",
    "    'United States',\n",
    "    'Mexico',\n",
    "    'United Kingdom',\n",
    "    'Denmark',\n",
    "    'Switzerland',\n",
    "    'Austria',\n",
    "    'Spain',\n",
    "    'Greece',\n",
    "    'Czechia',\n",
    "    'Poland',\n",
    "    'Jamaica',\n",
    "]\n",
    "\n",
    "wine_countries = [\n",
    "    'France',\n",
    "    'Italy',\n",
    "    'Spain',\n",
    "    'Portugal',\n",
    "    'Germany',\n",
    "    'United States',\n",
    "]\n",
    "\n",
    "champagne_countries = [\n",
    "    'France',\n",
    "]\n",
    "\n",
    "alcohol_countries = dict(\n",
    "    Whiskey = whiskey_countries,\n",
    "    Vodka = vodka_countries,\n",
    "    Rum = rum_countries,\n",
    "    Gin = gin_countries,\n",
    "    # Beer = beer_countries,\n",
    "    Tequila = tequila_countries,\n",
    "    Brandy = brandy_countries,\n",
    "    Liqueur = liqueur_countries,\n",
    "    Wine = wine_countries,\n",
    "    Champagne = champagne_countries,\n",
    ")\n"
   ]
  },
  {
   "cell_type": "code",
   "execution_count": null,
   "metadata": {},
   "outputs": [],
   "source": [
    "bevarage_sections_urls = [\n",
    "    dict(url='https://cwspirits.com/collections/whiskey', type_name='Whiskey'),\n",
    "    dict(url='https://cwspirits.com/collections/vodka', type_name='Vodka'),\n",
    "    dict(url='https://cwspirits.com/collections/rum', type_name='Rum'),\n",
    "    dict(url='https://cwspirits.com/collections/gin', type_name='Gin'),\n",
    "    dict(url='https://cwspirits.com/collections/tequila', type_name='Tequila'),\n",
    "    dict(url='https://cwspirits.com/collections/brandy', type_name='Brandy'),\n",
    "    dict(url='https://cwspirits.com/collections/liqueur', type_name='Liqueur'),\n",
    "    dict(url='https://cwspirits.com/collections/red-wines', type_name='Wine'),\n",
    "    dict(url='https://cwspirits.com/collections/white-wine', type_name='Wine'),\n",
    "    dict(url='https://cwspirits.com/collections/rose', type_name='Wine'),\n",
    "    dict(url='https://cwspirits.com/collections/champagne-and-sparkling-wine', type_name='Champagne'),\n",
    "]"
   ]
  },
  {
   "cell_type": "code",
   "execution_count": null,
   "metadata": {},
   "outputs": [],
   "source": [
    "products_info = []\n",
    "scraped_urls_num = 0\n",
    "scraping_counter = 0\n",
    "for url_dict in bevarage_sections_urls:\n",
    "    scraping_counter += 1\n",
    "    try:\n",
    "        print(f'>>> Parsing [{scraping_counter}/{len(bevarage_sections_urls)}]: {url_dict[\"url\"]}')\n",
    "        products_info.extend(parse_alcohol_section(url=url_dict['url'], type_name=url_dict['type_name'], max_pages=None, max_products=None))\n",
    "        scraped_urls_num += 1\n",
    "    except Exception as e:\n",
    "        print('>>> URL ERROR:', e)\n",
    "\n",
    "print('\\n>>> Parsing completed')\n",
    "print(f'Total urls: {len(bevarage_sections_urls)}')\n",
    "print(f'Scraped {scraped_urls_num} urls')\n"
   ]
  },
  {
   "cell_type": "markdown",
   "metadata": {},
   "source": [
    "### Save products info to file\n"
   ]
  },
  {
   "cell_type": "code",
   "execution_count": null,
   "metadata": {},
   "outputs": [],
   "source": [
    "# with open('products_info.json', 'w', encoding='utf-8') as file:\n",
    "#     json.dump(products_info, file, ensure_ascii=False)"
   ]
  },
  {
   "cell_type": "markdown",
   "metadata": {},
   "source": [
    "### Read products info from file"
   ]
  },
  {
   "cell_type": "code",
   "execution_count": null,
   "metadata": {},
   "outputs": [],
   "source": [
    "with open('products_info.json', 'r', encoding='utf-8') as file:\n",
    "    products_info = json.load(file)"
   ]
  },
  {
   "cell_type": "markdown",
   "metadata": {},
   "source": [
    "### Process origin countries"
   ]
  },
  {
   "cell_type": "code",
   "execution_count": null,
   "metadata": {},
   "outputs": [],
   "source": [
    "for product in products_info:\n",
    "    try:\n",
    "        origin_country_name = product.get('origin_country_name')\n",
    "        if origin_country_name:\n",
    "            origin_country_name = origin_country_name.split(', ')[-1]\n",
    "            product['origin_country_name'] = origin_country_name\n",
    "        db_country = countries_col.find_one({'name': origin_country_name}) if origin_country_name else None\n",
    "\n",
    "        if not db_country:\n",
    "            product['origin_country_name'] = choice(alcohol_countries[product.get('type_name')])\n",
    "    except Exception as e:\n",
    "        raise e\n"
   ]
  },
  {
   "cell_type": "markdown",
   "metadata": {},
   "source": [
    "#### Create items"
   ]
  },
  {
   "cell_type": "code",
   "execution_count": null,
   "metadata": {},
   "outputs": [],
   "source": [
    "items = []\n",
    "for product in products_info:\n",
    "    try:\n",
    "        volume = product.get('volume')\n",
    "        volume, volume_unit = re.match(r'(\\d+(?:\\.\\d+)?)\\s*([a-zA-Z]+)', volume).groups()\n",
    "        volume_unit = volume_unit.lower()\n",
    "\n",
    "        origin_country = countries_col.find_one({'name': product.get('origin_country_name')})\n",
    "\n",
    "        items.append(\n",
    "            Item(\n",
    "                sku=generate_sku(type_name=product.get('type_name')),\n",
    "                title=product.get('title'),\n",
    "                image_url=product.get('image_url'),\n",
    "                description=product.get('description'),\n",
    "\n",
    "                type_id='',\n",
    "                type_name=product.get('type_name'),\n",
    "\n",
    "                price=Money(amount=Decimal128(product.get('price'))),\n",
    "                volume=Volume(amount=Decimal128(volume), unit=volume_unit),\n",
    "                alcohol_volume=Volume(amount=Decimal128(product.get('alcohol_volume').replace('%', '')), unit='%'),\n",
    "                quantity=randint(1, 230),\n",
    "                origin_country_code=origin_country['code'],\n",
    "                origin_country_name=origin_country['name'],\n",
    "\n",
    "                brand_id='',\n",
    "                brand_name=product.get('brand_name'),  \n",
    "            )\n",
    "        )\n",
    "    except Exception as e:\n",
    "        continue\n"
   ]
  },
  {
   "cell_type": "markdown",
   "metadata": {},
   "source": [
    "### Create brands"
   ]
  },
  {
   "cell_type": "code",
   "execution_count": null,
   "metadata": {},
   "outputs": [],
   "source": [
    "# get all brands from items\n",
    "brands = set([item.brand_name for item in items] + data_brands)\n",
    "\n",
    "brands = [\n",
    "    Brand(brand=brand).model_dump()\n",
    "    for brand in brands\n",
    "]\n",
    "\n",
    "# drop collection brands\n",
    "brands_col.drop()\n",
    "\n",
    "# insert brands\n",
    "brands_col.insert_many(brands)\n",
    "\n"
   ]
  },
  {
   "cell_type": "markdown",
   "metadata": {},
   "source": [
    "### Create types"
   ]
  },
  {
   "cell_type": "code",
   "execution_count": null,
   "metadata": {},
   "outputs": [],
   "source": [
    "# get all type from items\n",
    "types = set([item.type_name for item in items] + data_types)\n",
    "\n",
    "types = [\n",
    "    BeverageType(type=type).model_dump()\n",
    "    for type in types\n",
    "]\n",
    "\n",
    "# drop collection types\n",
    "types_col.drop()\n",
    "\n",
    "# insert types\n",
    "types_col.insert_many(types)\n"
   ]
  },
  {
   "cell_type": "markdown",
   "metadata": {},
   "source": [
    "### Process items"
   ]
  },
  {
   "cell_type": "code",
   "execution_count": null,
   "metadata": {},
   "outputs": [],
   "source": [
    "# Create dictionaries for faster lookup\n",
    "brand_dict = {brand['brand']: brand['brand_id'] for brand in brands}\n",
    "type_dict = {type['type']: type['type_id'] for type in types}\n",
    "\n",
    "for item in items:\n",
    "    item.brand_id = brand_dict.get(item.brand_name, '')\n",
    "    item.type_id = type_dict.get(item.type_name, '')\n",
    "\n",
    "# drop collection items\n",
    "items_col.drop()\n",
    "\n",
    "# insert items\n",
    "items_col.insert_many([item.model_dump() for item in items])\n"
   ]
  },
  {
   "cell_type": "code",
   "execution_count": null,
   "metadata": {},
   "outputs": [],
   "source": [
    "client.close()"
   ]
  },
  {
   "cell_type": "code",
   "execution_count": null,
   "metadata": {},
   "outputs": [],
   "source": []
  }
 ],
 "metadata": {
  "kernelspec": {
   "display_name": ".venv",
   "language": "python",
   "name": "python3"
  },
  "language_info": {
   "codemirror_mode": {
    "name": "ipython",
    "version": 3
   },
   "file_extension": ".py",
   "mimetype": "text/x-python",
   "name": "python",
   "nbconvert_exporter": "python",
   "pygments_lexer": "ipython3",
   "version": "3.12.6"
  }
 },
 "nbformat": 4,
 "nbformat_minor": 2
}
